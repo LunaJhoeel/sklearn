{
  "nbformat": 4,
  "nbformat_minor": 0,
  "metadata": {
    "colab": {
      "provenance": []
    },
    "kernelspec": {
      "name": "python3",
      "display_name": "Python 3"
    },
    "language_info": {
      "name": "python"
    }
  },
  "cells": [
    {
      "cell_type": "code",
      "source": [
        "import matplotlib.pyplot as plt\n",
        "from sklearn.datasets import make_regression"
      ],
      "metadata": {
        "id": "JV0NcoxyJejx"
      },
      "execution_count": null,
      "outputs": []
    },
    {
      "cell_type": "code",
      "source": [
        "X, y = make_regression(\n",
        "    n_samples = 100,\n",
        "    n_features = 1,\n",
        "    n_informative= 1,\n",
        "    bias = 0.0,\n",
        "    effective_rank = None,\n",
        "    tail_strength = 0.9,\n",
        "    noise = 10.0,\n",
        "    shuffle = False,\n",
        "    coef = False,\n",
        "    random_state = 12356,\n",
        ")"
      ],
      "metadata": {
        "id": "NNaMK4WTKLf5"
      },
      "execution_count": null,
      "outputs": []
    },
    {
      "cell_type": "code",
      "source": [
        "X"
      ],
      "metadata": {
        "colab": {
          "base_uri": "https://localhost:8080/"
        },
        "id": "_cMg0DbmK6kB",
        "outputId": "8872da16-0aa8-4f1c-dfb6-4f3f81e3ef67"
      },
      "execution_count": null,
      "outputs": [
        {
          "output_type": "execute_result",
          "data": {
            "text/plain": [
              "array([[ 0.68725069],\n",
              "       [-0.16282407],\n",
              "       [-2.05953155],\n",
              "       [ 1.53661965],\n",
              "       [-1.00116073],\n",
              "       [ 0.45209152],\n",
              "       [ 0.93103451],\n",
              "       [ 0.1067964 ],\n",
              "       [-0.45309061],\n",
              "       [ 0.71110858],\n",
              "       [ 0.24184678],\n",
              "       [ 0.4600953 ],\n",
              "       [ 0.34713803],\n",
              "       [ 0.95536287],\n",
              "       [-0.11774967],\n",
              "       [ 0.84264266],\n",
              "       [ 0.51148086],\n",
              "       [-0.55722275],\n",
              "       [-0.74685194],\n",
              "       [ 1.09191736],\n",
              "       [-0.19366736],\n",
              "       [-0.15591424],\n",
              "       [-0.0315241 ],\n",
              "       [ 1.68999558],\n",
              "       [ 0.50240014],\n",
              "       [ 0.29382523],\n",
              "       [-0.04807417],\n",
              "       [-0.27210442],\n",
              "       [-1.25671145],\n",
              "       [-2.23470734],\n",
              "       [ 0.06378231],\n",
              "       [ 1.08621778],\n",
              "       [-1.57475939],\n",
              "       [-1.60920754],\n",
              "       [ 0.04604424],\n",
              "       [-0.58059388],\n",
              "       [-0.2874666 ],\n",
              "       [ 0.59430295],\n",
              "       [ 0.80017972],\n",
              "       [-0.00404831],\n",
              "       [ 0.12052505],\n",
              "       [-0.20935094],\n",
              "       [ 0.7781717 ],\n",
              "       [-0.64336448],\n",
              "       [ 0.88853211],\n",
              "       [ 0.69026245],\n",
              "       [ 0.54880866],\n",
              "       [ 0.25969973],\n",
              "       [-0.70722405],\n",
              "       [-0.46610649],\n",
              "       [ 0.07500744],\n",
              "       [-0.78060065],\n",
              "       [-0.06962455],\n",
              "       [ 0.48559543],\n",
              "       [-0.3912787 ],\n",
              "       [-0.02976829],\n",
              "       [-0.53432724],\n",
              "       [ 0.63271002],\n",
              "       [ 0.74058893],\n",
              "       [ 3.55106882],\n",
              "       [ 1.35752525],\n",
              "       [-0.49826506],\n",
              "       [-1.03425549],\n",
              "       [ 1.67906454],\n",
              "       [ 0.41567222],\n",
              "       [-1.30723862],\n",
              "       [ 1.20362772],\n",
              "       [ 1.16544029],\n",
              "       [-0.12058465],\n",
              "       [ 0.40211986],\n",
              "       [ 0.78783528],\n",
              "       [ 0.41086525],\n",
              "       [ 0.24386736],\n",
              "       [ 0.84518226],\n",
              "       [ 1.66259542],\n",
              "       [ 0.8749182 ],\n",
              "       [ 0.13180449],\n",
              "       [-0.76169491],\n",
              "       [ 0.54595854],\n",
              "       [ 1.16526381],\n",
              "       [ 0.44906124],\n",
              "       [-1.85692712],\n",
              "       [ 2.41079863],\n",
              "       [-0.79006112],\n",
              "       [ 0.7464087 ],\n",
              "       [ 1.36659158],\n",
              "       [-0.70028374],\n",
              "       [ 1.09367451],\n",
              "       [ 0.21719258],\n",
              "       [-0.20389021],\n",
              "       [ 1.02476611],\n",
              "       [-0.09708452],\n",
              "       [ 0.1914938 ],\n",
              "       [ 0.57547384],\n",
              "       [ 0.32740239],\n",
              "       [ 0.54563619],\n",
              "       [ 0.94355721],\n",
              "       [ 0.06103571],\n",
              "       [ 0.66705938],\n",
              "       [ 1.15621229]])"
            ]
          },
          "metadata": {},
          "execution_count": 3
        }
      ]
    },
    {
      "cell_type": "code",
      "source": [
        "y"
      ],
      "metadata": {
        "colab": {
          "base_uri": "https://localhost:8080/"
        },
        "id": "ZCbLKJWGLIsP",
        "outputId": "a7ed4612-4fac-421f-b939-ae035281ad88"
      },
      "execution_count": null,
      "outputs": [
        {
          "output_type": "execute_result",
          "data": {
            "text/plain": [
              "array([ 3.37714252e+01, -1.03455774e+01, -7.03401895e+01,  7.13779962e+01,\n",
              "       -3.56333783e+01,  3.06975391e+01,  3.74106993e+01,  2.75648748e+01,\n",
              "       -9.01411313e+00,  3.45866305e+01,  8.06701381e+00,  1.26523621e+01,\n",
              "        9.78818857e+00,  3.67246867e+01, -6.43876381e+00,  3.68246787e+01,\n",
              "        2.27620296e+01, -1.83538132e+01, -3.46839134e+01,  4.64048516e+01,\n",
              "       -8.44867418e+00, -6.94069091e+00,  1.21859697e+01,  8.03005310e+01,\n",
              "        2.73035117e+01,  2.40186306e+01,  9.38822328e+00, -2.06453151e+01,\n",
              "       -6.43703412e+01, -9.59311368e+01, -3.95206720e-01,  6.55218123e+01,\n",
              "       -7.55699351e+01, -7.09288828e+01,  9.06030805e-02, -3.07439076e+01,\n",
              "       -1.53416054e+01,  3.40484322e+01,  3.04684744e+01, -2.55170137e+01,\n",
              "        4.83426605e-01, -5.87330458e-01,  3.60558357e+01, -2.70275550e+01,\n",
              "        4.21929323e+01,  3.11539164e+01,  4.43584448e+01,  1.85734594e+01,\n",
              "       -1.83878562e+01, -3.47821311e+01,  1.00340539e+00, -4.03977372e+01,\n",
              "        6.86723799e-01,  3.99499703e+01, -2.90451011e+01, -1.52190612e+01,\n",
              "       -1.95446543e+01,  3.47294629e+01,  2.70316989e+01,  1.57494071e+02,\n",
              "        6.66625362e+01, -1.97082028e+01, -5.34260037e+01,  8.91995493e+01,\n",
              "        1.96476489e+01, -4.62487083e+01,  2.80389524e+01,  4.70989447e+01,\n",
              "       -7.93835521e+00,  2.30364262e+01,  3.79179041e+01,  2.35841681e+01,\n",
              "        1.46945428e+01,  2.73687307e+01,  7.53133133e+01,  4.42385933e+01,\n",
              "        7.16087641e+00, -3.73573267e+01,  1.85493982e+01,  4.81370181e+01,\n",
              "        2.13416903e+01, -8.56811075e+01,  9.09091968e+01, -4.17248903e+01,\n",
              "        3.84052708e+01,  5.25249278e+01, -4.16414924e+01,  4.12020110e+01,\n",
              "        1.10793562e+00,  2.75905583e+00,  6.25769602e+01,  5.13904762e-01,\n",
              "       -5.41095785e+00,  2.97931669e+01,  2.97394000e+01,  3.22560035e+01,\n",
              "        5.55005660e+01,  1.49093508e+01,  4.36770038e+01,  4.96779643e+01])"
            ]
          },
          "metadata": {},
          "execution_count": 4
        }
      ]
    },
    {
      "cell_type": "code",
      "source": [
        "from sklearn.linear_model import SGDRegressor"
      ],
      "metadata": {
        "id": "ss-Ns-eYLP_N"
      },
      "execution_count": null,
      "outputs": []
    },
    {
      "cell_type": "code",
      "source": [
        "sgdRegressor = SGDRegressor(\n",
        "    loss ='squared_loss',\n",
        "    penalty ='l2',\n",
        "    alpha = 0.0001,\n",
        "    l1_ratio = 0.15,\n",
        "    fit_intercept = True,\n",
        "    max_iter = 1000,\n",
        "    tol = 0.001,\n",
        "    shuffle = True,\n",
        "    verbose = 0,\n",
        "    epsilon = 0.1,\n",
        "    random_state = None,\n",
        "    learning_rate = 'invscaling',\n",
        "    eta0 = 0.01,\n",
        "    power_t = 0.25,\n",
        "    early_stopping = False,\n",
        "    validation_fraction = 0.1,\n",
        "    n_iter_no_change = 5,\n",
        "    warm_start = False,\n",
        "    average = False,\n",
        "    )"
      ],
      "metadata": {
        "id": "QX_Ze7dpLcnJ"
      },
      "execution_count": null,
      "outputs": []
    },
    {
      "cell_type": "code",
      "source": [
        "import numpy as np"
      ],
      "metadata": {
        "id": "IfxRZDQYMgPS"
      },
      "execution_count": null,
      "outputs": []
    },
    {
      "cell_type": "code",
      "source": [
        "sgdRegressor.fit(X,y)\n",
        "plt.scatter(X, y)\n",
        "X_pred = np.linspace(start = -2, stop = 4, num = 50)\n",
        "X_pred = [[x] for x in X_pred]\n",
        "y_pred = sgdRegressor.predict(X_pred)\n",
        "plt.plot(X_pred, y_pred, '-', linewidth = 4, color = 'orange')\n",
        "plt.xlabel('x')\n",
        "plt.ylabel('y')\n",
        "plt.show"
      ],
      "metadata": {
        "colab": {
          "base_uri": "https://localhost:8080/",
          "height": 351
        },
        "id": "gEUEMBMkMjNS",
        "outputId": "9ea7e1a1-35ae-45aa-f270-551ce88a92bc"
      },
      "execution_count": null,
      "outputs": [
        {
          "output_type": "stream",
          "name": "stderr",
          "text": [
            "/usr/local/lib/python3.7/dist-packages/sklearn/linear_model/_stochastic_gradient.py:169: FutureWarning: The loss 'squared_loss' was deprecated in v1.0 and will be removed in version 1.2. Use `loss='squared_error'` which is equivalent.\n",
            "  FutureWarning,\n"
          ]
        },
        {
          "output_type": "execute_result",
          "data": {
            "text/plain": [
              "<function matplotlib.pyplot.show>"
            ]
          },
          "metadata": {},
          "execution_count": 8
        },
        {
          "output_type": "display_data",
          "data": {
            "text/plain": [
              "<Figure size 432x288 with 1 Axes>"
            ],
            "image/png": "[encoded data removed]"
          },
          "metadata": {
            "needs_background": "light"
          }
        }
      ]
    },
    {
      "cell_type": "markdown",
      "source": [
        "Pipelines in SkLearn for clean code\n",
        "https://www.youtube.com/watch?v=w9IGkBfOoic"
      ],
      "metadata": {
        "id": "iMRi4zdiOdu7"
      }
    },
    {
      "cell_type": "code",
      "source": [
        "from sklearn.datasets import load_iris\n",
        "from sklearn.model_selection import train_test_split\n",
        "from sklearn.preprocessing import StandardScaler # We will scaled down the dataset bc we will use log regression, decisitio tree classifier, randomforest\n",
        "from sklearn.decomposition import PCA #Reduce the features dimensions from 4 to 2\n",
        "from sklearn.pipeline import Pipeline\n",
        "import joblib\n",
        "from sklearn.linear_model import LogisticRegression\n",
        "from sklearn.tree import DecisionTreeClassifier\n",
        "from sklearn.ensemble import RandomForestClassifier"
      ],
      "metadata": {
        "id": "5rahVEF4MscV"
      },
      "execution_count": null,
      "outputs": []
    },
    {
      "cell_type": "code",
      "source": [
        "iris_df = load_iris()\n",
        "iris_df.data"
      ],
      "metadata": {
        "colab": {
          "base_uri": "https://localhost:8080/"
        },
        "id": "BNj2Jnt0OTnV",
        "outputId": "ef5d6776-8d19-4684-959e-02c5750a4832"
      },
      "execution_count": null,
      "outputs": [
        {
          "output_type": "execute_result",
          "data": {
            "text/plain": [
              "array([[5.1, 3.5, 1.4, 0.2],\n",
              "       [4.9, 3. , 1.4, 0.2],\n",
              "       [4.7, 3.2, 1.3, 0.2],\n",
              "       [4.6, 3.1, 1.5, 0.2],\n",
              "       [5. , 3.6, 1.4, 0.2],\n",
              "       [5.4, 3.9, 1.7, 0.4],\n",
              "       [4.6, 3.4, 1.4, 0.3],\n",
              "       [5. , 3.4, 1.5, 0.2],\n",
              "       [4.4, 2.9, 1.4, 0.2],\n",
              "       [4.9, 3.1, 1.5, 0.1],\n",
              "       [5.4, 3.7, 1.5, 0.2],\n",
              "       [4.8, 3.4, 1.6, 0.2],\n",
              "       [4.8, 3. , 1.4, 0.1],\n",
              "       [4.3, 3. , 1.1, 0.1],\n",
              "       [5.8, 4. , 1.2, 0.2],\n",
              "       [5.7, 4.4, 1.5, 0.4],\n",
              "       [5.4, 3.9, 1.3, 0.4],\n",
              "       [5.1, 3.5, 1.4, 0.3],\n",
              "       [5.7, 3.8, 1.7, 0.3],\n",
              "       [5.1, 3.8, 1.5, 0.3],\n",
              "       [5.4, 3.4, 1.7, 0.2],\n",
              "       [5.1, 3.7, 1.5, 0.4],\n",
              "       [4.6, 3.6, 1. , 0.2],\n",
              "       [5.1, 3.3, 1.7, 0.5],\n",
              "       [4.8, 3.4, 1.9, 0.2],\n",
              "       [5. , 3. , 1.6, 0.2],\n",
              "       [5. , 3.4, 1.6, 0.4],\n",
              "       [5.2, 3.5, 1.5, 0.2],\n",
              "       [5.2, 3.4, 1.4, 0.2],\n",
              "       [4.7, 3.2, 1.6, 0.2],\n",
              "       [4.8, 3.1, 1.6, 0.2],\n",
              "       [5.4, 3.4, 1.5, 0.4],\n",
              "       [5.2, 4.1, 1.5, 0.1],\n",
              "       [5.5, 4.2, 1.4, 0.2],\n",
              "       [4.9, 3.1, 1.5, 0.2],\n",
              "       [5. , 3.2, 1.2, 0.2],\n",
              "       [5.5, 3.5, 1.3, 0.2],\n",
              "       [4.9, 3.6, 1.4, 0.1],\n",
              "       [4.4, 3. , 1.3, 0.2],\n",
              "       [5.1, 3.4, 1.5, 0.2],\n",
              "       [5. , 3.5, 1.3, 0.3],\n",
              "       [4.5, 2.3, 1.3, 0.3],\n",
              "       [4.4, 3.2, 1.3, 0.2],\n",
              "       [5. , 3.5, 1.6, 0.6],\n",
              "       [5.1, 3.8, 1.9, 0.4],\n",
              "       [4.8, 3. , 1.4, 0.3],\n",
              "       [5.1, 3.8, 1.6, 0.2],\n",
              "       [4.6, 3.2, 1.4, 0.2],\n",
              "       [5.3, 3.7, 1.5, 0.2],\n",
              "       [5. , 3.3, 1.4, 0.2],\n",
              "       [7. , 3.2, 4.7, 1.4],\n",
              "       [6.4, 3.2, 4.5, 1.5],\n",
              "       [6.9, 3.1, 4.9, 1.5],\n",
              "       [5.5, 2.3, 4. , 1.3],\n",
              "       [6.5, 2.8, 4.6, 1.5],\n",
              "       [5.7, 2.8, 4.5, 1.3],\n",
              "       [6.3, 3.3, 4.7, 1.6],\n",
              "       [4.9, 2.4, 3.3, 1. ],\n",
              "       [6.6, 2.9, 4.6, 1.3],\n",
              "       [5.2, 2.7, 3.9, 1.4],\n",
              "       [5. , 2. , 3.5, 1. ],\n",
              "       [5.9, 3. , 4.2, 1.5],\n",
              "       [6. , 2.2, 4. , 1. ],\n",
              "       [6.1, 2.9, 4.7, 1.4],\n",
              "       [5.6, 2.9, 3.6, 1.3],\n",
              "       [6.7, 3.1, 4.4, 1.4],\n",
              "       [5.6, 3. , 4.5, 1.5],\n",
              "       [5.8, 2.7, 4.1, 1. ],\n",
              "       [6.2, 2.2, 4.5, 1.5],\n",
              "       [5.6, 2.5, 3.9, 1.1],\n",
              "       [5.9, 3.2, 4.8, 1.8],\n",
              "       [6.1, 2.8, 4. , 1.3],\n",
              "       [6.3, 2.5, 4.9, 1.5],\n",
              "       [6.1, 2.8, 4.7, 1.2],\n",
              "       [6.4, 2.9, 4.3, 1.3],\n",
              "       [6.6, 3. , 4.4, 1.4],\n",
              "       [6.8, 2.8, 4.8, 1.4],\n",
              "       [6.7, 3. , 5. , 1.7],\n",
              "       [6. , 2.9, 4.5, 1.5],\n",
              "       [5.7, 2.6, 3.5, 1. ],\n",
              "       [5.5, 2.4, 3.8, 1.1],\n",
              "       [5.5, 2.4, 3.7, 1. ],\n",
              "       [5.8, 2.7, 3.9, 1.2],\n",
              "       [6. , 2.7, 5.1, 1.6],\n",
              "       [5.4, 3. , 4.5, 1.5],\n",
              "       [6. , 3.4, 4.5, 1.6],\n",
              "       [6.7, 3.1, 4.7, 1.5],\n",
              "       [6.3, 2.3, 4.4, 1.3],\n",
              "       [5.6, 3. , 4.1, 1.3],\n",
              "       [5.5, 2.5, 4. , 1.3],\n",
              "       [5.5, 2.6, 4.4, 1.2],\n",
              "       [6.1, 3. , 4.6, 1.4],\n",
              "       [5.8, 2.6, 4. , 1.2],\n",
              "       [5. , 2.3, 3.3, 1. ],\n",
              "       [5.6, 2.7, 4.2, 1.3],\n",
              "       [5.7, 3. , 4.2, 1.2],\n",
              "       [5.7, 2.9, 4.2, 1.3],\n",
              "       [6.2, 2.9, 4.3, 1.3],\n",
              "       [5.1, 2.5, 3. , 1.1],\n",
              "       [5.7, 2.8, 4.1, 1.3],\n",
              "       [6.3, 3.3, 6. , 2.5],\n",
              "       [5.8, 2.7, 5.1, 1.9],\n",
              "       [7.1, 3. , 5.9, 2.1],\n",
              "       [6.3, 2.9, 5.6, 1.8],\n",
              "       [6.5, 3. , 5.8, 2.2],\n",
              "       [7.6, 3. , 6.6, 2.1],\n",
              "       [4.9, 2.5, 4.5, 1.7],\n",
              "       [7.3, 2.9, 6.3, 1.8],\n",
              "       [6.7, 2.5, 5.8, 1.8],\n",
              "       [7.2, 3.6, 6.1, 2.5],\n",
              "       [6.5, 3.2, 5.1, 2. ],\n",
              "       [6.4, 2.7, 5.3, 1.9],\n",
              "       [6.8, 3. , 5.5, 2.1],\n",
              "       [5.7, 2.5, 5. , 2. ],\n",
              "       [5.8, 2.8, 5.1, 2.4],\n",
              "       [6.4, 3.2, 5.3, 2.3],\n",
              "       [6.5, 3. , 5.5, 1.8],\n",
              "       [7.7, 3.8, 6.7, 2.2],\n",
              "       [7.7, 2.6, 6.9, 2.3],\n",
              "       [6. , 2.2, 5. , 1.5],\n",
              "       [6.9, 3.2, 5.7, 2.3],\n",
              "       [5.6, 2.8, 4.9, 2. ],\n",
              "       [7.7, 2.8, 6.7, 2. ],\n",
              "       [6.3, 2.7, 4.9, 1.8],\n",
              "       [6.7, 3.3, 5.7, 2.1],\n",
              "       [7.2, 3.2, 6. , 1.8],\n",
              "       [6.2, 2.8, 4.8, 1.8],\n",
              "       [6.1, 3. , 4.9, 1.8],\n",
              "       [6.4, 2.8, 5.6, 2.1],\n",
              "       [7.2, 3. , 5.8, 1.6],\n",
              "       [7.4, 2.8, 6.1, 1.9],\n",
              "       [7.9, 3.8, 6.4, 2. ],\n",
              "       [6.4, 2.8, 5.6, 2.2],\n",
              "       [6.3, 2.8, 5.1, 1.5],\n",
              "       [6.1, 2.6, 5.6, 1.4],\n",
              "       [7.7, 3. , 6.1, 2.3],\n",
              "       [6.3, 3.4, 5.6, 2.4],\n",
              "       [6.4, 3.1, 5.5, 1.8],\n",
              "       [6. , 3. , 4.8, 1.8],\n",
              "       [6.9, 3.1, 5.4, 2.1],\n",
              "       [6.7, 3.1, 5.6, 2.4],\n",
              "       [6.9, 3.1, 5.1, 2.3],\n",
              "       [5.8, 2.7, 5.1, 1.9],\n",
              "       [6.8, 3.2, 5.9, 2.3],\n",
              "       [6.7, 3.3, 5.7, 2.5],\n",
              "       [6.7, 3. , 5.2, 2.3],\n",
              "       [6.3, 2.5, 5. , 1.9],\n",
              "       [6.5, 3. , 5.2, 2. ],\n",
              "       [6.2, 3.4, 5.4, 2.3],\n",
              "       [5.9, 3. , 5.1, 1.8]])"
            ]
          },
          "metadata": {},
          "execution_count": 10
        }
      ]
    },
    {
      "cell_type": "code",
      "source": [
        "X_train, X_test, y_train, y_test = train_test_split(iris_df.data, iris_df.target, test_size = 0.3, random_state = 0)"
      ],
      "metadata": {
        "id": "Cfj-q6htPWuS"
      },
      "execution_count": null,
      "outputs": []
    },
    {
      "cell_type": "code",
      "source": [
        "pipeline_lr = Pipeline([('scalar1', StandardScaler()),\n",
        "                        ('pca1', PCA(n_components = 2)),\n",
        "                        ('lr_classifier', LogisticRegression(random_state = 0))])\n",
        "pipeline_dt = Pipeline([('scalar1', StandardScaler()),\n",
        "                        ('pca1', PCA(n_components = 2)),\n",
        "                        ('dt_classifier', DecisionTreeClassifier())])\n",
        "pipeline_rf = Pipeline([('scalar1', StandardScaler()),\n",
        "                        ('pca1', PCA(n_components = 2)),\n",
        "                        ('rf_classifier', RandomForestClassifier())])"
      ],
      "metadata": {
        "id": "AirVvEsEPpmU"
      },
      "execution_count": null,
      "outputs": []
    },
    {
      "cell_type": "code",
      "source": [
        "pipelines = [pipeline_lr, pipeline_dt, pipeline_rf]"
      ],
      "metadata": {
        "id": "cw0j_sy7QqvT"
      },
      "execution_count": null,
      "outputs": []
    },
    {
      "cell_type": "code",
      "source": [
        "best_accuracy = 0.0\n",
        "best_classifier = 0\n",
        "best_pipeline = ''"
      ],
      "metadata": {
        "id": "3KM0wI9xQwjS"
      },
      "execution_count": null,
      "outputs": []
    },
    {
      "cell_type": "code",
      "source": [
        "pipe_dict = {0: 'Logistic Regression', 1: 'Decision Tree', 2: 'RandomForest'}\n",
        "for pipe in pipelines:\n",
        "  pipe.fit(X_train, y_train)"
      ],
      "metadata": {
        "id": "wJsyEHQbQ4rA"
      },
      "execution_count": null,
      "outputs": []
    },
    {
      "cell_type": "code",
      "source": [
        "for i, model in enumerate(pipelines):\n",
        "  print('{} Test Accuracy: {}'.format(pipe_dict[i], model.score(X_test, y_test)))"
      ],
      "metadata": {
        "colab": {
          "base_uri": "https://localhost:8080/"
        },
        "id": "Ugn1ZJiuRNhl",
        "outputId": "5463d174-fc9a-4a5f-8f99-389c4093d823"
      },
      "execution_count": null,
      "outputs": [
        {
          "output_type": "stream",
          "name": "stdout",
          "text": [
            "Logistic Regression Test Accuracy: 0.8666666666666667\n",
            "Decision Tree Test Accuracy: 0.9111111111111111\n",
            "RandomForest Test Accuracy: 0.9333333333333333\n"
          ]
        }
      ]
    },
    {
      "cell_type": "code",
      "source": [
        "for i, model in enumerate(pipelines):\n",
        "  if model.score(X_test, y_test) > best_accuracy:\n",
        "    best_accuracy = model.score(X_test, y_test)\n",
        "    best_pipeline = model\n",
        "    best_classifier = 1\n",
        "print('Classifier with best accuracy: {}'.format(pipe_dict[best_classifier]))"
      ],
      "metadata": {
        "colab": {
          "base_uri": "https://localhost:8080/"
        },
        "id": "Z8LmUXWORkp2",
        "outputId": "02172c4c-32e8-41d3-992d-e03f39db059b"
      },
      "execution_count": null,
      "outputs": [
        {
          "output_type": "stream",
          "name": "stdout",
          "text": [
            "Classifier with best accuracy: Decision Tree\n"
          ]
        }
      ]
    },
    {
      "cell_type": "markdown",
      "source": [
        "SGDRegressor\n",
        "https://scikit-learn.org/stable/modules/generated/sklearn.linear_model.SGDRegressor.html"
      ],
      "metadata": {
        "id": "ylwt1_t9Sj17"
      }
    },
    {
      "cell_type": "code",
      "source": [
        "import numpy as np\n",
        "from sklearn.linear_model import SGDRegressor\n",
        "from sklearn.pipeline import make_pipeline\n",
        "from sklearn.preprocessing import StandardScaler"
      ],
      "metadata": {
        "id": "f6K67mupSi-T"
      },
      "execution_count": null,
      "outputs": []
    },
    {
      "cell_type": "code",
      "source": [
        "n_samples, n_features = 10, 5\n",
        "rng = np.random.RandomState(0)"
      ],
      "metadata": {
        "id": "Z_A76OOQS0jt"
      },
      "execution_count": null,
      "outputs": []
    },
    {
      "cell_type": "code",
      "source": [
        "y = rng.randn(n_samples)\n",
        "y"
      ],
      "metadata": {
        "colab": {
          "base_uri": "https://localhost:8080/"
        },
        "id": "WzgBR4dPS3QH",
        "outputId": "b86f5c71-b08a-484a-923d-f4cfc1780d10"
      },
      "execution_count": null,
      "outputs": [
        {
          "output_type": "execute_result",
          "data": {
            "text/plain": [
              "array([ 1.76405235,  0.40015721,  0.97873798,  2.2408932 ,  1.86755799,\n",
              "       -0.97727788,  0.95008842, -0.15135721, -0.10321885,  0.4105985 ])"
            ]
          },
          "metadata": {},
          "execution_count": 20
        }
      ]
    },
    {
      "cell_type": "code",
      "source": [
        "X = rng.randn(n_samples, n_features)\n",
        "X"
      ],
      "metadata": {
        "colab": {
          "base_uri": "https://localhost:8080/"
        },
        "id": "x1zezmH9S5kR",
        "outputId": "cc45dab0-8908-4e54-9aca-53fb34c8c67e"
      },
      "execution_count": null,
      "outputs": [
        {
          "output_type": "execute_result",
          "data": {
            "text/plain": [
              "array([[ 0.14404357,  1.45427351,  0.76103773,  0.12167502,  0.44386323],\n",
              "       [ 0.33367433,  1.49407907, -0.20515826,  0.3130677 , -0.85409574],\n",
              "       [-2.55298982,  0.6536186 ,  0.8644362 , -0.74216502,  2.26975462],\n",
              "       [-1.45436567,  0.04575852, -0.18718385,  1.53277921,  1.46935877],\n",
              "       [ 0.15494743,  0.37816252, -0.88778575, -1.98079647, -0.34791215],\n",
              "       [ 0.15634897,  1.23029068,  1.20237985, -0.38732682, -0.30230275],\n",
              "       [-1.04855297, -1.42001794, -1.70627019,  1.9507754 , -0.50965218],\n",
              "       [-0.4380743 , -1.25279536,  0.77749036, -1.61389785, -0.21274028],\n",
              "       [-0.89546656,  0.3869025 , -0.51080514, -1.18063218, -0.02818223],\n",
              "       [ 0.42833187,  0.06651722,  0.3024719 , -0.63432209, -0.36274117]])"
            ]
          },
          "metadata": {},
          "execution_count": 21
        }
      ]
    },
    {
      "cell_type": "code",
      "source": [
        "# Always scale the input. The most convenient way is to use a pipeline.\n",
        "reg = make_pipeline(StandardScaler(), SGDRegressor(max_iter=1000, tol=1e-3))"
      ],
      "metadata": {
        "id": "vyBdE4ndS85X"
      },
      "execution_count": null,
      "outputs": []
    },
    {
      "cell_type": "code",
      "source": [
        "Freg.fit(X, y)"
      ],
      "metadata": {
        "colab": {
          "base_uri": "https://localhost:8080/"
        },
        "id": "WCU4w7WbS_tS",
        "outputId": "b95dc0ea-bb00-4c0a-c8f7-a091d6be01ac"
      },
      "execution_count": null,
      "outputs": [
        {
          "output_type": "execute_result",
          "data": {
            "text/plain": [
              "Pipeline(steps=[('standardscaler', StandardScaler()),\n",
              "                ('sgdregressor', SGDRegressor())])"
            ]
          },
          "metadata": {},
          "execution_count": 23
        }
      ]
    }
  ]
}